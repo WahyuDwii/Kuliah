{
  "nbformat": 4,
  "nbformat_minor": 0,
  "metadata": {
    "colab": {
      "provenance": []
    },
    "kernelspec": {
      "name": "python3",
      "display_name": "Python 3"
    },
    "language_info": {
      "name": "python"
    }
  },
  "cells": [
    {
      "cell_type": "code",
      "execution_count": null,
      "metadata": {
        "colab": {
          "base_uri": "https://localhost:8080/"
        },
        "id": "29Hxz0YVaWTy",
        "outputId": "c4412714-f460-442d-ab16-26e25814d855"
      },
      "outputs": [
        {
          "output_type": "stream",
          "name": "stdout",
          "text": [
            "wahyu: 4\n",
            "other: 2\n",
            "side: 2\n",
            "from: 1\n",
            "the: 1\n",
            "again: 1\n"
          ]
        }
      ],
      "source": [
        "from collections import defaultdict\n",
        "\n",
        "# Map Function\n",
        "def map_function(text):\n",
        "    for word in text.split():\n",
        "        yield (word, 1)\n",
        "\n",
        "# Reduce Function\n",
        "def reduce_function(pairs):\n",
        "    result = defaultdict(int)\n",
        "    for word, count in pairs:\n",
        "        result[word] += count\n",
        "    return result\n",
        "\n",
        "# Dataset Teks\n",
        "text = \"\"\"\n",
        "wahyu other side\n",
        "wahyu from the other side\n",
        "wahyu again\n",
        "wahyu\n",
        "\"\"\"\n",
        "\n",
        "# Menjalankan MapReduce dan menampilkan hasil\n",
        "result = reduce_function(map_function(text))\n",
        "for word, count in result.items():\n",
        "    print(f\"{word}: {count}\")\n"
      ]
    },
    {
      "cell_type": "code",
      "source": [],
      "metadata": {
        "id": "ky-22soINoy6"
      },
      "execution_count": null,
      "outputs": []
    }
  ]
}