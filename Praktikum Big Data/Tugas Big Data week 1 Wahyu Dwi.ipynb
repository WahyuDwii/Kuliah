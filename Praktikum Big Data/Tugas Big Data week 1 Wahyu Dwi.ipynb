{
 "cells": [
  {
   "cell_type": "markdown",
   "id": "10c25d6f",
   "metadata": {
    "id": "10c25d6f"
   },
   "source": [
    "# Hands-On Pertemuan 1: Pengenalan Big Data dan Overview Teknologi"
   ]
  },
  {
   "cell_type": "markdown",
   "id": "7117dfdb",
   "metadata": {
    "id": "7117dfdb"
   },
   "source": [
    "## Tujuan\n",
    "Pada akhir praktikum ini, mahasiswa diharapkan mampu:\n",
    "1. Memahami konsep dasar Big Data.\n",
    "2. Menjelaskan karakteristik dan tantangan Big Data (Volume, Variety, Velocity, dan Veracity).\n",
    "3. Mengenal teknologi yang digunakan dalam ekosistem Big Data.\n",
    "4. Menginstal dan mengonfigurasi Anaconda untuk bekerja dengan alat Big Data seperti Hadoop dan Spark.\n",
    "5. Memulai praktik sederhana terkait pengolahan data menggunakan PySpark dan Pandas."
   ]
  },
  {
   "cell_type": "markdown",
   "id": "7e805141",
   "metadata": {
    "id": "7e805141"
   },
   "source": [
    "## Peralatan yang Dibutuhkan\n",
    "1. Anaconda (untuk manajemen lingkungan)\n",
    "2. Jupyter Notebook (bawaan dari Anaconda)\n",
    "3. PySpark (untuk pemrosesan data skala besar)\n",
    "4. Pandas (untuk data analysis)\n",
    "5. Python (bawaan dari Anaconda)"
   ]
  },
  {
   "cell_type": "markdown",
   "id": "8daa78a0",
   "metadata": {
    "id": "8daa78a0"
   },
   "source": [
    "## Langkah-Langkah Hands-On"
   ]
  },
  {
   "cell_type": "markdown",
   "id": "23b963c0",
   "metadata": {
    "id": "23b963c0"
   },
   "source": [
    "### 1. Instalasi Anaconda\n",
    "- **Langkah 1: Unduh dan Instal Anaconda**\n",
    "  Anaconda adalah platform distribusi Python yang menyertakan berbagai alat pengembangan, termasuk Jupyter Notebook. Ikuti langkah-langkah instalasi sesuai sistem operasi:\n",
    "  - Unduh Anaconda: [Download Anaconda](https://www.anaconda.com/products/individual)\n",
    "  - Instal sesuai instruksi yang ada di situs web tersebut (Windows/Mac/Linux).\n",
    "\n",
    "- **Langkah 2: Menginstal PySpark di Anaconda**\n",
    "  Setelah Anaconda terinstal, tambahkan PySpark:\n",
    "  ```bash\n",
    "  pip install pyspark==3.4.1\n",
    "  ```\n",
    "\n",
    "- **Langkah 3: Menginstal Pandas**\n",
    "  Untuk memudahkan data analysis, install Pandas:\n",
    "  ```bash\n",
    "  pip install pandas\n",
    "  ```\n",
    "\n",
    "- **Langkah 4: Menginstal Findspark**\n",
    "  ```bash\n",
    "  pip install findspark\n",
    "  ```"
   ]
  },
  {
   "cell_type": "markdown",
   "id": "208f1a45",
   "metadata": {
    "id": "208f1a45"
   },
   "source": [
    "### 2. Pengenalan dan Praktik Dasar PySpark dan Pandas\n",
    "- **Langkah 1: Membuka Jupyter Notebook**\n",
    "  Setelah instalasi selesai, buka Jupyter Notebook melalui Anaconda Navigator atau melalui terminal dengan perintah:\n",
    "  ```bash\n",
    "  jupyter notebook\n",
    "  ```\n",
    "\n",
    "- **Langkah 2: Membuat Project Notebook Baru**\n",
    "  Di Jupyter Notebook, buat notebook baru untuk praktikum ini.\n",
    "\n",
    "- **Langkah 3: Praktik dengan PySpark**\n",
    "  Buat program sederhana untuk memulai dengan PySpark. Gunakan PySpark untuk membuat DataFrame dan memanipulasi data sederhana:"
   ]
  },
  {
   "cell_type": "code",
   "execution_count": null,
   "id": "KERSZShIH_aN",
   "metadata": {
    "id": "KERSZShIH_aN"
   },
   "outputs": [],
   "source": [
    "import findspark\n",
    "findspark.init()"
   ]
  },
  {
   "cell_type": "code",
   "execution_count": 12,
   "id": "f78a5053",
   "metadata": {
    "id": "f78a5053"
   },
   "outputs": [
    {
     "name": "stdout",
     "output_type": "stream",
     "text": [
      "+-------+----+--------------+----------+------+\n",
      "|   Nama|Usia|     Pekerjaan|      Hobi|Gender|\n",
      "+-------+----+--------------+----------+------+\n",
      "|    Ali|  34|Data Scientist|   Membaca|     L|\n",
      "|   Budi|  23|       Arsitek|   Mancing|     L|\n",
      "|  Citra|  29|      Psikolog|   Menulis|     P|\n",
      "|   Dina|  45|          Guru|   Memasak|     P|\n",
      "|Aurelia|  21|      Psikolog|  Olahraga|     P|\n",
      "|  Wahyu|  22|    Programmer|Travelling|     L|\n",
      "+-------+----+--------------+----------+------+\n",
      "\n"
     ]
    }
   ],
   "source": [
    "from pyspark.sql import SparkSession\n",
    "\n",
    "# Memulai Spark session\n",
    "spark = SparkSession.builder.appName(\"BigDataPractice\").getOrCreate()\n",
    "\n",
    "# Membuat DataFrame sederhana\n",
    "data = [(\"Ali\", 34, \"Data Scientist\", \"Membaca\", \"L\" ),\n",
    "        (\"Budi\", 23, \"Arsitek\", \"Mancing\", \"L\"), \n",
    "        (\"Citra\", 29, \"Psikolog\", \"Menulis\", \"P\"), \n",
    "        (\"Dina\", 45, \"Guru\", \"Memasak\", \"P\"),\n",
    "        (\"Aurelia\", 21, \"Psikolog\", \"Olahraga\", \"P\"),\n",
    "        (\"Wahyu\", 22, \"Programmer\", \"Travelling\", \"L\")]\n",
    "columns = [\"Nama\", \"Usia\", \"Pekerjaan\", \"Hobi\", \"Gender\"]\n",
    "df = spark.createDataFrame(data, columns)\n",
    "\n",
    "# Menampilkan DataFrame\n",
    "df.show()\n"
   ]
  },
  {
   "cell_type": "markdown",
   "id": "8747276f",
   "metadata": {
    "id": "8747276f"
   },
   "source": [
    "- **Tugas 1**: Jalankan kode di atas dan buat modifikasi dengan menambahkan data lain berupa kolom pekerjaan, hobi dan gender."
   ]
  },
  {
   "cell_type": "markdown",
   "id": "1f84a333",
   "metadata": {
    "id": "1f84a333"
   },
   "source": [
    "### 3. Praktik PySpark Lanjutan\n",
    "- **Latihan 1**: Memanipulasi Data dengan PySpark."
   ]
  },
  {
   "cell_type": "code",
   "execution_count": 14,
   "id": "702fb499-0070-4b23-828e-b696d71a19a7",
   "metadata": {},
   "outputs": [
    {
     "name": "stdout",
     "output_type": "stream",
     "text": [
      "DataFrame awal:\n",
      "+-------+----+\n",
      "|   Nama|Usia|\n",
      "+-------+----+\n",
      "|    Ali|  34|\n",
      "|   Budi|  23|\n",
      "|  Citra|  29|\n",
      "|   Dina|  45|\n",
      "|Aurelia|  21|\n",
      "|  Wahyu|  22|\n",
      "+-------+----+\n",
      "\n",
      "DataFrame setelah filter usia > 30:\n",
      "+----+----+\n",
      "|Nama|Usia|\n",
      "+----+----+\n",
      "| Ali|  34|\n",
      "|Dina|  45|\n",
      "+----+----+\n",
      "\n",
      "Rata-rata usia:\n",
      "+--------------+\n",
      "|Rata-rata Usia|\n",
      "+--------------+\n",
      "|          29.0|\n",
      "+--------------+\n",
      "\n",
      "DataFrame setelah diurutkan berdasarkan usia dari yang tertua ke termuda:\n",
      "+-------+----+\n",
      "|   Nama|Usia|\n",
      "+-------+----+\n",
      "|   Dina|  45|\n",
      "|    Ali|  34|\n",
      "|  Citra|  29|\n",
      "|   Budi|  23|\n",
      "|  Wahyu|  22|\n",
      "|Aurelia|  21|\n",
      "+-------+----+\n",
      "\n",
      "DataFrame setelah diurutkan berdasarkan usia dari yang termuda ke tertua:\n",
      "+-------+----+\n",
      "|   Nama|Usia|\n",
      "+-------+----+\n",
      "|Aurelia|  21|\n",
      "|  Wahyu|  22|\n",
      "|   Budi|  23|\n",
      "|  Citra|  29|\n",
      "|    Ali|  34|\n",
      "|   Dina|  45|\n",
      "+-------+----+\n",
      "\n"
     ]
    }
   ],
   "source": [
    "from pyspark.sql import SparkSession\n",
    "from pyspark.sql.functions import avg\n",
    "\n",
    "# Memulai Spark session\n",
    "spark = SparkSession.builder.appName(\"BigDataPractice\").getOrCreate()\n",
    "\n",
    "# Membuat DataFrame sederhana\n",
    "data = [(\"Ali\", 34), (\"Budi\", 23), (\"Citra\", 29), (\"Dina\", 45), (\"Aurelia\", 21), (\"Wahyu\", 22)]\n",
    "columns = [\"Nama\", \"Usia\"]\n",
    "df = spark.createDataFrame(data, columns)\n",
    "\n",
    "# Menampilkan DataFrame\n",
    "print(\"DataFrame awal:\")\n",
    "df.show()\n",
    "\n",
    "# Filtering data\n",
    "df_filtered = df.filter(df['Usia'] > 30)\n",
    "print(\"DataFrame setelah filter usia > 30:\")\n",
    "df_filtered.show()\n",
    "\n",
    "# Menghitung rata-rata usia\n",
    "print(\"Rata-rata usia:\")\n",
    "df.groupBy().agg(avg(\"Usia\").alias(\"Rata-rata Usia\")).show()\n",
    "\n",
    "# Mengurutkan data berdasarkan usia dari yang tertua ke termuda\n",
    "df_sorted_desc = df.orderBy(\"Usia\", ascending=False)\n",
    "print(\"DataFrame setelah diurutkan berdasarkan usia dari yang tertua ke termuda:\")\n",
    "df_sorted_desc.show()\n",
    "\n",
    "# Mengurutkan data berdasarkan usia dari yang termuda ke tertua\n",
    "df_sorted_asc = df.orderBy(\"Usia\", ascending=True)\n",
    "print(\"DataFrame setelah diurutkan berdasarkan usia dari yang termuda ke tertua:\")\n",
    "df_sorted_asc.show()\n"
   ]
  },
  {
   "cell_type": "markdown",
   "id": "e06767bc",
   "metadata": {
    "id": "e06767bc"
   },
   "source": [
    "- **Tugas 2**: Lakukan filter, penghitungan rata-rata, dan pengurutan data menggunakan PySpark."
   ]
  },
  {
   "cell_type": "markdown",
   "id": "fe1e34a5",
   "metadata": {
    "id": "fe1e34a5"
   },
   "source": [
    "### 4. Praktik dengan Pandas\n",
    "- **Latihan 2**:  Buat DataFrame menggunakan Pandas:"
   ]
  },
  {
   "cell_type": "code",
   "execution_count": 17,
   "id": "3f1f2ec1",
   "metadata": {
    "id": "3f1f2ec1"
   },
   "outputs": [
    {
     "name": "stdout",
     "output_type": "stream",
     "text": [
      "DataFrame Pandas setelah menambahkan kolom baru:\n",
      "      Nama  Usia Gender\n",
      "0      Ali    34      L\n",
      "1     Budi    23      L\n",
      "2    Citra    29      P\n",
      "3     Dina    45      P\n",
      "4  Aurelia    21      P\n",
      "5    Wahyu    22      L\n",
      "\n",
      "DataFrame setelah filter usia > 30:\n",
      "   Nama  Usia Gender\n",
      "0   Ali    34      L\n",
      "3  Dina    45      P\n"
     ]
    },
    {
     "data": {
      "text/html": [
       "<div>\n",
       "<style scoped>\n",
       "    .dataframe tbody tr th:only-of-type {\n",
       "        vertical-align: middle;\n",
       "    }\n",
       "\n",
       "    .dataframe tbody tr th {\n",
       "        vertical-align: top;\n",
       "    }\n",
       "\n",
       "    .dataframe thead th {\n",
       "        text-align: right;\n",
       "    }\n",
       "</style>\n",
       "<table border=\"1\" class=\"dataframe\">\n",
       "  <thead>\n",
       "    <tr style=\"text-align: right;\">\n",
       "      <th></th>\n",
       "      <th>Nama</th>\n",
       "      <th>Usia</th>\n",
       "      <th>Gender</th>\n",
       "    </tr>\n",
       "  </thead>\n",
       "  <tbody>\n",
       "    <tr>\n",
       "      <th>0</th>\n",
       "      <td>Ali</td>\n",
       "      <td>34</td>\n",
       "      <td>L</td>\n",
       "    </tr>\n",
       "    <tr>\n",
       "      <th>1</th>\n",
       "      <td>Budi</td>\n",
       "      <td>23</td>\n",
       "      <td>L</td>\n",
       "    </tr>\n",
       "    <tr>\n",
       "      <th>2</th>\n",
       "      <td>Citra</td>\n",
       "      <td>29</td>\n",
       "      <td>P</td>\n",
       "    </tr>\n",
       "    <tr>\n",
       "      <th>3</th>\n",
       "      <td>Dina</td>\n",
       "      <td>45</td>\n",
       "      <td>P</td>\n",
       "    </tr>\n",
       "    <tr>\n",
       "      <th>4</th>\n",
       "      <td>Aurelia</td>\n",
       "      <td>21</td>\n",
       "      <td>P</td>\n",
       "    </tr>\n",
       "    <tr>\n",
       "      <th>5</th>\n",
       "      <td>Wahyu</td>\n",
       "      <td>22</td>\n",
       "      <td>L</td>\n",
       "    </tr>\n",
       "  </tbody>\n",
       "</table>\n",
       "</div>"
      ],
      "text/plain": [
       "      Nama  Usia Gender\n",
       "0      Ali    34      L\n",
       "1     Budi    23      L\n",
       "2    Citra    29      P\n",
       "3     Dina    45      P\n",
       "4  Aurelia    21      P\n",
       "5    Wahyu    22      L"
      ]
     },
     "execution_count": 17,
     "metadata": {},
     "output_type": "execute_result"
    }
   ],
   "source": [
    "import pandas as pd\n",
    "\n",
    "# Membuat DataFrame Pandas dengan data tambahan\n",
    "data_pandas = {\n",
    "    \"Nama\": [\"Ali\", \"Budi\", \"Citra\", \"Dina\", \"Aurelia\", \"Wahyu\"],\n",
    "    \"Usia\": [34, 23, 29, 45, 21, 22]\n",
    "}\n",
    "df_pandas = pd.DataFrame(data_pandas)\n",
    "\n",
    "# Menambah kolom baru\n",
    "df_pandas[\"Gender\"] = [\"L\", \"L\", \"P\", \"P\", \"P\", \"L\"]\n",
    "\n",
    "# Menampilkan DataFrame Pandas yang telah dimodifikasi\n",
    "print(\"DataFrame Pandas setelah menambahkan kolom baru:\")\n",
    "print(df_pandas)\n",
    "\n",
    "# Filtering data berdasarkan usia\n",
    "df_filtered_pandas = df_pandas[df_pandas['Usia'] > 30]\n",
    "\n",
    "# Menampilkan DataFrame setelah filtering\n",
    "print(\"\\nDataFrame setelah filter usia > 30:\")\n",
    "print(df_filtered_pandas)\n",
    "\n",
    "# Menampilkan DataFrame Pandas\n",
    "df_pandas\n"
   ]
  },
  {
   "cell_type": "markdown",
   "id": "9da455f1",
   "metadata": {
    "id": "9da455f1"
   },
   "source": [
    "- **Tugas 3**: Modifikasi DataFrame Pandas dengan menambahkan kolom baru dan melakukan operasi seperti filtering data berdasarkan usia."
   ]
  },
  {
   "cell_type": "markdown",
   "id": "c0042b2b",
   "metadata": {
    "id": "c0042b2b"
   },
   "source": [
    "### 5. Praktik Pandas Lanjutan\n",
    "- **Latihan 3**: Penggunaan Pandas untuk operasi lebih kompleks."
   ]
  },
  {
   "cell_type": "code",
   "execution_count": 20,
   "id": "e7a8142f",
   "metadata": {
    "id": "e7a8142f"
   },
   "outputs": [
    {
     "name": "stdout",
     "output_type": "stream",
     "text": [
      "DataFrame Gabungan:\n",
      "    Nama  Usia Pekerjaan\n",
      "0    Ali    34    Dokter\n",
      "1   Budi    23      Guru\n",
      "2  Citra    29  Insinyur\n",
      "3   Dina    45   Perawat\n",
      "\n",
      "Statistik Deskriptif:\n",
      "            Usia\n",
      "count   4.000000\n",
      "mean   32.750000\n",
      "std     9.322911\n",
      "min    23.000000\n",
      "25%    27.500000\n",
      "50%    31.500000\n",
      "75%    36.750000\n",
      "max    45.000000\n"
     ]
    },
    {
     "data": {
      "image/png": "[encoded data removed]",
      "text/plain": [
       "<Figure size 640x480 with 1 Axes>"
      ]
     },
     "metadata": {},
     "output_type": "display_data"
    }
   ],
   "source": [
    "import pandas as pd  \n",
    "import matplotlib.pyplot as plt\n",
    "\n",
    "# Membuat DataFrame Pandas\n",
    "data_pandas = {\"Nama\": [\"Ali\", \"Budi\", \"Citra\", \"Dina\"], \"Usia\": [34, 23, 29, 45]}\n",
    "df_pandas = pd.DataFrame(data_pandas)\n",
    "\n",
    "# Membuat DataFrame kedua\n",
    "data_pandas_2 = {\"Nama\": [\"Ali\", \"Budi\", \"Citra\", \"Dina\"], \"Pekerjaan\": [\"Dokter\", \"Guru\", \"Insinyur\", \"Perawat\"]}\n",
    "df_pandas_2 = pd.DataFrame(data_pandas_2)\n",
    "\n",
    "# Join antara dua DataFrame\n",
    "df_joined = pd.merge(df_pandas, df_pandas_2, on=\"Nama\")\n",
    "print(\"DataFrame Gabungan:\")\n",
    "print(df_joined)\n",
    "\n",
    "# Menghitung statistik deskriptif\n",
    "print(\"\\nStatistik Deskriptif:\")\n",
    "print(df_pandas.describe())\n",
    "\n",
    "# Plotting Data\n",
    "df_pandas.plot(kind='bar', x='Nama', y='Usia', legend=False)\n",
    "plt.title('Diagram Usia')\n",
    "plt.xlabel('Nama')\n",
    "plt.ylabel('Usia')\n",
    "plt.show()\n"
   ]
  },
  {
   "cell_type": "markdown",
   "id": "884ed75d",
   "metadata": {
    "id": "884ed75d"
   },
   "source": [
    "- **Tugas 4**: Lakukan penggabungan DataFrame dan visualisasikan data dengan Pandas."
   ]
  },
  {
   "cell_type": "markdown",
   "id": "bf671ba3",
   "metadata": {
    "id": "bf671ba3"
   },
   "source": [
    "### 5. Menggabungkan PySpark dan Pandas\n",
    "- **Latihan 4: Mengonversi DataFrame antara PySpark dan Pandas**\n",
    "  Praktik untuk convert DataFrame dari PySpark ke Pandas dan sebaliknya:\n"
   ]
  },
  {
   "cell_type": "code",
   "execution_count": 32,
   "id": "64c427af-ce3d-40e7-90f7-787b9383666e",
   "metadata": {},
   "outputs": [
    {
     "name": "stdout",
     "output_type": "stream",
     "text": [
      "\n",
      "DataFrame Gabungan:\n",
      "+-------+----+\n",
      "|   Nama|Usia|\n",
      "+-------+----+\n",
      "|    Ali|  34|\n",
      "|   Budi|  23|\n",
      "|  Citra|  29|\n",
      "|   Dina|  45|\n",
      "|Aurelia|  21|\n",
      "|  Wahyu|  22|\n",
      "+-------+----+\n",
      "\n",
      "+--------------+\n",
      "|Rata-rata Usia|\n",
      "+--------------+\n",
      "|          29.0|\n",
      "+--------------+\n",
      "\n"
     ]
    }
   ],
   "source": [
    "from pyspark.sql import SparkSession\n",
    "from pyspark.sql.functions import avg\n",
    "\n",
    "# Memulai Spark session\n",
    "spark = SparkSession.builder.appName(\"BigDataPractice\").getOrCreate()\n",
    "\n",
    "# Membuat DataFrame PySpark\n",
    "data_spark = [(\"Ali\", 34), (\"Budi\", 23), (\"Citra\", 29), (\"Dina\", 45), (\"Aurelia\", 21), (\"Wahyu\", 22)]\n",
    "columns_spark = [\"Nama\", \"Usia\"]\n",
    "df_spark = spark.createDataFrame(data_spark, columns_spark)\n",
    "\n",
    "# Menampilkan DataFrame PySpark\n",
    "print(\"\\nDataFrame Gabungan:\")\n",
    "df_spark.show()\n",
    "\n",
    "# Menghitung rata-rata usia dari DataFrame PySpark\n",
    "df_spark.groupBy().agg(avg(\"Usia\").alias(\"Rata-rata Usia\")).show()\n"
   ]
  },
  {
   "cell_type": "markdown",
   "id": "2cba4e5c",
   "metadata": {
    "id": "2cba4e5c"
   },
   "source": [
    "- **Tugas 5**: Gunakan metode ini untuk menggabungkan data yang Anda buat di PySpark dengan data dari Pandas, kemudian lakukan analisis sederhana seperti menghitung rata-rata usia."
   ]
  },
  {
   "cell_type": "markdown",
   "id": "afdba6be",
   "metadata": {
    "id": "afdba6be"
   },
   "source": [
    "### 6. Konversi Data antara PySpark dan Pandas"
   ]
  },
  {
   "cell_type": "code",
   "execution_count": 28,
   "id": "f863defc",
   "metadata": {
    "id": "f863defc"
   },
   "outputs": [
    {
     "name": "stdout",
     "output_type": "stream",
     "text": [
      "\n",
      "DataFrame Gabungan:\n",
      "+-------+----+\n",
      "|   Nama|Usia|\n",
      "+-------+----+\n",
      "|    Ali|  34|\n",
      "|   Budi|  23|\n",
      "|  Citra|  29|\n",
      "|   Dina|  45|\n",
      "|Aurelia|  21|\n",
      "|  Wahyu|  22|\n",
      "+-------+----+\n",
      "\n",
      "+-------------+\n",
      "|Usia Maksimum|\n",
      "+-------------+\n",
      "|           45|\n",
      "+-------------+\n",
      "\n"
     ]
    }
   ],
   "source": [
    "from pyspark.sql import SparkSession\n",
    "import pandas as pd\n",
    "from pyspark.sql.functions import max\n",
    "\n",
    "# Memulai Spark session\n",
    "spark = SparkSession.builder.appName(\"BigDataPractice\").getOrCreate()\n",
    "\n",
    "# Membuat DataFrame PySpark\n",
    "data_spark = [(\"Ali\", 34), (\"Budi\", 23), (\"Citra\", 29), (\"Dina\", 45), (\"Aurelia\", 21), (\"Wahyu\", 22)]\n",
    "columns_spark = [\"Nama\", \"Usia\"]\n",
    "df_spark = spark.createDataFrame(data_spark, columns_spark)\n",
    "\n",
    "# Mengonversi DataFrame PySpark ke Pandas\n",
    "df_pandas_from_spark = df_spark.toPandas()\n",
    "\n",
    "# Menampilkan DataFrame gabungan\n",
    "print(\"\\nDataFrame Gabungan:\")\n",
    "df_spark.show()\n",
    "\n",
    "# Menghitung nilai maksimum usia langsung di PySpark\n",
    "df_spark.agg(max(\"Usia\").alias(\"Usia Maksimum\")).show()\n"
   ]
  },
  {
   "cell_type": "markdown",
   "id": "65adbe71",
   "metadata": {
    "id": "65adbe71"
   },
   "source": [
    "- **Tugas 6**: Gabungkan data dari PySpark dan Pandas, lalu lakukan operasi statistik seperti menghitung nilai maksimum usia."
   ]
  }
 ],
 "metadata": {
  "colab": {
   "provenance": []
  },
  "kernelspec": {
   "display_name": "Python 3 (ipykernel)",
   "language": "python",
   "name": "python3"
  },
  "language_info": {
   "codemirror_mode": {
    "name": "ipython",
    "version": 3
   },
   "file_extension": ".py",
   "mimetype": "text/x-python",
   "name": "python",
   "nbconvert_exporter": "python",
   "pygments_lexer": "ipython3",
   "version": "3.11.9"
  }
 },
 "nbformat": 4,
 "nbformat_minor": 5
}
